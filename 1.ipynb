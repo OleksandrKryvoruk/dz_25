{
 "cells": [
  {
   "cell_type": "markdown",
   "id": "c2ab96aa",
   "metadata": {},
   "source": [
    "**Умова:**"
   ]
  },
  {
   "cell_type": "markdown",
   "id": "f6b43f42",
   "metadata": {},
   "source": [
    "Ймовірність того, що при перевірці деталь виявиться стандартною, дорівнює 0,6. Перевірці підлягають 3 деталі. Побудувати\n",
    "закон розподілу системи двох дискретних випадкових величин $Х$ - появи числа бракованих деталей і $Y$ - появи числа \n",
    "стандартних деталей.\n",
    "Обчислити коефіцієнт кореляції $r_{xy}$"
   ]
  },
  {
   "cell_type": "markdown",
   "id": "2216bbeb",
   "metadata": {},
   "source": [
    "**Вирішення:**"
   ]
  },
  {
   "cell_type": "markdown",
   "id": "550729cb",
   "metadata": {},
   "source": [
    "1. Побудуємо таблицю сумісного розподілу двох величин, для чого розрахуємо вірогідності всіх можливих випадків.\n",
    "\n",
    "    1.1. Вірогідність, того, що всі три деталі виявилися стандартними.\n",
    "    \n",
    "    1.2. Вірогідність того, що 1 деталь бракована, а дві стандартні (3 варіанти даної вірогідності).\n",
    "    \n",
    "    1.3. Вірогідність того, що 2 деталі браковані, а дві стандартні (3 варіанти даної вірогідності).\n",
    "    \n",
    "    1.4. Вірогідність того, що всі деталі даної вибірки браковані."
   ]
  },
  {
   "cell_type": "code",
   "execution_count": 3,
   "id": "33c54f3a",
   "metadata": {},
   "outputs": [
    {
     "name": "stdout",
     "output_type": "stream",
     "text": [
      "P_x0_y3 =  0.216\n",
      "P_x1_y2 =  0.432\n",
      "P_x2_y1 =  0.288\n",
      "P_x3_y0 =  0.064\n"
     ]
    }
   ],
   "source": [
    "P_x0_y3 = 0.6 * 0.6 * 0.6\n",
    "print(\"P_x0_y3 = \", round(P_x0_y3, 3))\n",
    "P_x1_y2 = 0.4 * 0.6 * 0.6 * 3\n",
    "print(\"P_x1_y2 = \", round(P_x1_y2, 3))\n",
    "P_x2_y1 = 0.4 * 0.4 * 0.6 * 3\n",
    "print(\"P_x2_y1 = \", round(P_x2_y1, 3))\n",
    "P_x3_y0 = 0.4 * 0.4 * 0.4\n",
    "print(\"P_x3_y0 = \", round(P_x3_y0, 3))"
   ]
  },
  {
   "cell_type": "markdown",
   "id": "aeaee295",
   "metadata": {},
   "source": [
    "Результат вірогідностей має = 1:"
   ]
  },
  {
   "cell_type": "code",
   "execution_count": 4,
   "id": "a99bbcb9",
   "metadata": {},
   "outputs": [
    {
     "name": "stdout",
     "output_type": "stream",
     "text": [
      "sum = 1.0\n"
     ]
    }
   ],
   "source": [
    "sum = P_x0_y3 + P_x1_y2 + P_x2_y1 + P_x3_y0\n",
    "print(\"sum =\", sum)"
   ]
  },
  {
   "cell_type": "markdown",
   "id": "20c37f80",
   "metadata": {},
   "source": [
    "Таблиця сумісного розподілу величин:\n",
    "\n",
    "| **X / Y** |0       | 1      | 2      | 3    |\n",
    "| :---      | :----: | :----: | :----: | ---: |\n",
    "| **0**     | 0      | 0      | 0      | 0.216|\n",
    "| **1**     | 0      | 0      | 0.432  | 0    |\n",
    "| **2**     | 0      | 0.288  | 0      | 0    |\n",
    "| **3**     | 0.064  | 0      | 0      | 0    |"
   ]
  },
  {
   "cell_type": "markdown",
   "id": "9e971806",
   "metadata": {},
   "source": [
    "2. Побудуємо закони розподілу даних величин, сумуючи вірогідності кожного випадку:\n",
    "    \n",
    "| **X** |0       | 1      | 2      | 3    |\n",
    "| :---  | :----: | :----: | :----: | ---: |\n",
    "| **Р** | 0.216  | 0.432  | 0.288  | 0.064|\n",
    "\n",
    "\n",
    "| **Y** |0       | 1      | 2      | 3    |\n",
    "| :---  | :----: | :----: | :----: | ---: |\n",
    "| **Р** | 0.064  | 0.288  | 0.432  | 0.216|\n",
    "    \n",
    "    \n",
    "    "
   ]
  },
  {
   "cell_type": "markdown",
   "id": "2a8520a5",
   "metadata": {},
   "source": [
    "3. Знаючи закони розподілу, розраховуємо математичні очікування для даних величин:"
   ]
  },
  {
   "cell_type": "code",
   "execution_count": 6,
   "id": "3bd2f9c4",
   "metadata": {},
   "outputs": [
    {
     "name": "stdout",
     "output_type": "stream",
     "text": [
      "E_X =  1.2\n",
      "E_Y =  1.8\n"
     ]
    }
   ],
   "source": [
    "E_X = 0 * 0.216 + 1 * 0.432 + 2 * 0.288 + 3 * 0.064\n",
    "E_Y = 0 * 0.064 + 1 * 0.288 + 2 * 0.432 + 3 * 0.216\n",
    "print(\"E_X = \", round(E_X, 2))\n",
    "print(\"E_Y = \", round(E_Y, 2))"
   ]
  },
  {
   "cell_type": "markdown",
   "id": "8f2f2a26",
   "metadata": {},
   "source": [
    "4. Знайдемо дисперсію даних величин за даними форумулами:\n",
    "\n",
    "$$ DX = E({X}^{2}) - {(EX)}^{2}; $$\n",
    "\n",
    "$$ DY = E({Y}^{2}) - {(EY)}^{2}; $$\n"
   ]
  },
  {
   "cell_type": "code",
   "execution_count": 8,
   "id": "45512a2f",
   "metadata": {},
   "outputs": [
    {
     "name": "stdout",
     "output_type": "stream",
     "text": [
      "D_X =  0.72\n",
      "D_Y =  0.72\n"
     ]
    }
   ],
   "source": [
    "D_X = 0**2 * 0.216 + 1**2 * 0.432 + 2**2 * 0.288 + 3**2 * 0.064 - E_X**2\n",
    "D_Y = 0**2 * 0.064 + 1**2 * 0.288 + 2**2 * 0.432 + 3**2 * 0.216 - E_Y**2\n",
    "print(\"D_X = \", round(D_X, 2))\n",
    "print(\"D_Y = \", round(D_Y, 2))"
   ]
  },
  {
   "cell_type": "markdown",
   "id": "f92500ae",
   "metadata": {},
   "source": [
    "5. Знайдемо коваріацію за формулою:\n",
    "\n",
    "$$ cov(X/Y) = E(XY) - EX * EY; $$"
   ]
  },
  {
   "cell_type": "code",
   "execution_count": 10,
   "id": "28c7aa89",
   "metadata": {},
   "outputs": [
    {
     "name": "stdout",
     "output_type": "stream",
     "text": [
      "cov_XY =  -0.72\n"
     ]
    }
   ],
   "source": [
    "cov_XY = 1 * 2 * 0.432 + 2 * 1 * 0.288 - E_X * E_Y\n",
    "print(\"cov_XY = \", round(cov_XY, 2))"
   ]
  },
  {
   "cell_type": "markdown",
   "id": "fb1189f5",
   "metadata": {},
   "source": [
    "6. Знайдемо кореляцію за формулою:\n",
    "\n",
    "$$ cor(X/Y) = \\frac{cov(X/Y)}{\\sqrt{DX}*\\sqrt{DY}}; $$\n",
    "    \n",
    "    "
   ]
  },
  {
   "cell_type": "code",
   "execution_count": 11,
   "id": "1636ca57",
   "metadata": {},
   "outputs": [
    {
     "name": "stdout",
     "output_type": "stream",
     "text": [
      "cor_XY =  -1.0\n"
     ]
    }
   ],
   "source": [
    "cor_XY = cov_XY / (D_X**0.5 * D_Y**0.5)\n",
    "print(\"cor_XY = \", round(cor_XY, 2))"
   ]
  },
  {
   "cell_type": "markdown",
   "id": "dd062f41",
   "metadata": {},
   "source": [
    "**Висновок:**\n",
    "\n",
    "Дані величини повністю від'ємно скорельовані."
   ]
  }
 ],
 "metadata": {
  "kernelspec": {
   "display_name": "Python 3 (ipykernel)",
   "language": "python",
   "name": "python3"
  },
  "language_info": {
   "codemirror_mode": {
    "name": "ipython",
    "version": 3
   },
   "file_extension": ".py",
   "mimetype": "text/x-python",
   "name": "python",
   "nbconvert_exporter": "python",
   "pygments_lexer": "ipython3",
   "version": "3.10.7"
  }
 },
 "nbformat": 4,
 "nbformat_minor": 5
}
